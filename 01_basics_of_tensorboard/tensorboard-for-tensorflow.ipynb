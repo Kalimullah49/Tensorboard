{
 "cells": [
  {
   "cell_type": "markdown",
   "metadata": {},
   "source": [
    "**`Tensorboard for Tensorflow`**\n",
    "\n",
    "This tutorial will show you step by step guide on how to use Tensorboard for Tensorflow. Tensorboard is a visualization tool provided by Tensorflow to visualize the training process of your model. It is very helpful to visualize the training process, model architecture, and other important details of your model.\n",
    "\n",
    " **`What is Tensorboard?`**\n",
    "\n",
    "TensorBoard is a suite of visualization tools that makes it easier to understand, debug, and optimize TensorFlow programs. It includes a suite of tools for visualizing data flow graphs, profiling, and debugging TensorFlow programs.\n",
    "\n",
    "**`Why Tensorboard?`**\n",
    "\n",
    "TensorBoard provides the visualization and tooling needed for machine learning experimentation:\n",
    "\n",
    "- Tracking and visualizing metrics such as loss and accuracy\n",
    "- Visualizing the model graph (ops and layers)\n",
    "- Viewing histograms of weights, biases, or other tensors as they change over time\n",
    "- Projecting embeddings to a lower-dimensional space\n",
    "- Displaying images, text, and audio data\n",
    "- Profiling input data and model structure\n",
    "- Displaying profiled data, such as input pipeline processing time, model execution time, and how long each op takes\n",
    "**`How to use Tensorboard?`**\n",
    "\n",
    "To use Tensorboard, you need to install Tensorflow and then you can use Tensorboard to visualize the training process of your model. Here is a step by step guide on how to use Tensorboard.\n",
    "\n",
    "to install Tensorflow and tensorboard, you can use the following command.\n",
    "\n",
    "```python\n",
    "!pip install tensorflow\n",
    "!pip intall tensorboard\n",
    "```"
   ]
  },
  {
   "cell_type": "markdown",
   "metadata": {},
   "source": [
    "Using TensorBoard for visualizing the training process of a simple neural network for basic rectangular data involves several steps. Below, I'll outline a basic example using TensorFlow and Keras to train a neural network on some rectangular data and visualize the training process using TensorBoard:\n",
    "\n",
    "1. **Import necessary libraries**:"
   ]
  },
  {
   "cell_type": "code",
   "execution_count": 1,
   "metadata": {},
   "outputs": [
    {
     "name": "stdout",
     "output_type": "stream",
     "text": [
      "Requirement already satisfied: tensorflow in c:\\users\\hafizkalimullah\\miniconda3\\envs\\tf-env\\lib\\site-packages (2.18.0)\n",
      "Requirement already satisfied: tensorflow-intel==2.18.0 in c:\\users\\hafizkalimullah\\miniconda3\\envs\\tf-env\\lib\\site-packages (from tensorflow) (2.18.0)\n",
      "Requirement already satisfied: absl-py>=1.0.0 in c:\\users\\hafizkalimullah\\miniconda3\\envs\\tf-env\\lib\\site-packages (from tensorflow-intel==2.18.0->tensorflow) (2.1.0)\n",
      "Requirement already satisfied: astunparse>=1.6.0 in c:\\users\\hafizkalimullah\\miniconda3\\envs\\tf-env\\lib\\site-packages (from tensorflow-intel==2.18.0->tensorflow) (1.6.3)\n",
      "Requirement already satisfied: flatbuffers>=24.3.25 in c:\\users\\hafizkalimullah\\miniconda3\\envs\\tf-env\\lib\\site-packages (from tensorflow-intel==2.18.0->tensorflow) (24.12.23)\n",
      "Requirement already satisfied: gast!=0.5.0,!=0.5.1,!=0.5.2,>=0.2.1 in c:\\users\\hafizkalimullah\\miniconda3\\envs\\tf-env\\lib\\site-packages (from tensorflow-intel==2.18.0->tensorflow) (0.6.0)\n",
      "Requirement already satisfied: google-pasta>=0.1.1 in c:\\users\\hafizkalimullah\\miniconda3\\envs\\tf-env\\lib\\site-packages (from tensorflow-intel==2.18.0->tensorflow) (0.2.0)\n",
      "Requirement already satisfied: libclang>=13.0.0 in c:\\users\\hafizkalimullah\\miniconda3\\envs\\tf-env\\lib\\site-packages (from tensorflow-intel==2.18.0->tensorflow) (18.1.1)\n",
      "Requirement already satisfied: opt-einsum>=2.3.2 in c:\\users\\hafizkalimullah\\miniconda3\\envs\\tf-env\\lib\\site-packages (from tensorflow-intel==2.18.0->tensorflow) (3.4.0)\n",
      "Requirement already satisfied: packaging in c:\\users\\hafizkalimullah\\miniconda3\\envs\\tf-env\\lib\\site-packages (from tensorflow-intel==2.18.0->tensorflow) (24.2)\n",
      "Requirement already satisfied: protobuf!=4.21.0,!=4.21.1,!=4.21.2,!=4.21.3,!=4.21.4,!=4.21.5,<6.0.0dev,>=3.20.3 in c:\\users\\hafizkalimullah\\miniconda3\\envs\\tf-env\\lib\\site-packages (from tensorflow-intel==2.18.0->tensorflow) (5.29.2)\n",
      "Requirement already satisfied: requests<3,>=2.21.0 in c:\\users\\hafizkalimullah\\miniconda3\\envs\\tf-env\\lib\\site-packages (from tensorflow-intel==2.18.0->tensorflow) (2.32.3)\n",
      "Requirement already satisfied: setuptools in c:\\users\\hafizkalimullah\\miniconda3\\envs\\tf-env\\lib\\site-packages (from tensorflow-intel==2.18.0->tensorflow) (75.1.0)\n",
      "Requirement already satisfied: six>=1.12.0 in c:\\users\\hafizkalimullah\\miniconda3\\envs\\tf-env\\lib\\site-packages (from tensorflow-intel==2.18.0->tensorflow) (1.17.0)\n",
      "Requirement already satisfied: termcolor>=1.1.0 in c:\\users\\hafizkalimullah\\miniconda3\\envs\\tf-env\\lib\\site-packages (from tensorflow-intel==2.18.0->tensorflow) (2.5.0)\n",
      "Requirement already satisfied: typing-extensions>=3.6.6 in c:\\users\\hafizkalimullah\\miniconda3\\envs\\tf-env\\lib\\site-packages (from tensorflow-intel==2.18.0->tensorflow) (4.12.2)\n",
      "Requirement already satisfied: wrapt>=1.11.0 in c:\\users\\hafizkalimullah\\miniconda3\\envs\\tf-env\\lib\\site-packages (from tensorflow-intel==2.18.0->tensorflow) (1.17.0)\n",
      "Requirement already satisfied: grpcio<2.0,>=1.24.3 in c:\\users\\hafizkalimullah\\miniconda3\\envs\\tf-env\\lib\\site-packages (from tensorflow-intel==2.18.0->tensorflow) (1.68.1)\n",
      "Requirement already satisfied: tensorboard<2.19,>=2.18 in c:\\users\\hafizkalimullah\\miniconda3\\envs\\tf-env\\lib\\site-packages (from tensorflow-intel==2.18.0->tensorflow) (2.18.0)\n",
      "Requirement already satisfied: keras>=3.5.0 in c:\\users\\hafizkalimullah\\miniconda3\\envs\\tf-env\\lib\\site-packages (from tensorflow-intel==2.18.0->tensorflow) (3.7.0)\n",
      "Requirement already satisfied: numpy<2.1.0,>=1.26.0 in c:\\users\\hafizkalimullah\\miniconda3\\envs\\tf-env\\lib\\site-packages (from tensorflow-intel==2.18.0->tensorflow) (2.0.2)\n",
      "Requirement already satisfied: h5py>=3.11.0 in c:\\users\\hafizkalimullah\\miniconda3\\envs\\tf-env\\lib\\site-packages (from tensorflow-intel==2.18.0->tensorflow) (3.12.1)\n",
      "Requirement already satisfied: ml-dtypes<0.5.0,>=0.4.0 in c:\\users\\hafizkalimullah\\miniconda3\\envs\\tf-env\\lib\\site-packages (from tensorflow-intel==2.18.0->tensorflow) (0.4.1)\n",
      "Requirement already satisfied: tensorflow-io-gcs-filesystem>=0.23.1 in c:\\users\\hafizkalimullah\\miniconda3\\envs\\tf-env\\lib\\site-packages (from tensorflow-intel==2.18.0->tensorflow) (0.31.0)\n",
      "Requirement already satisfied: wheel<1.0,>=0.23.0 in c:\\users\\hafizkalimullah\\miniconda3\\envs\\tf-env\\lib\\site-packages (from astunparse>=1.6.0->tensorflow-intel==2.18.0->tensorflow) (0.44.0)\n",
      "Requirement already satisfied: rich in c:\\users\\hafizkalimullah\\miniconda3\\envs\\tf-env\\lib\\site-packages (from keras>=3.5.0->tensorflow-intel==2.18.0->tensorflow) (13.9.4)\n",
      "Requirement already satisfied: namex in c:\\users\\hafizkalimullah\\miniconda3\\envs\\tf-env\\lib\\site-packages (from keras>=3.5.0->tensorflow-intel==2.18.0->tensorflow) (0.0.8)\n",
      "Requirement already satisfied: optree in c:\\users\\hafizkalimullah\\miniconda3\\envs\\tf-env\\lib\\site-packages (from keras>=3.5.0->tensorflow-intel==2.18.0->tensorflow) (0.13.1)\n",
      "Requirement already satisfied: charset-normalizer<4,>=2 in c:\\users\\hafizkalimullah\\miniconda3\\envs\\tf-env\\lib\\site-packages (from requests<3,>=2.21.0->tensorflow-intel==2.18.0->tensorflow) (3.4.1)\n",
      "Requirement already satisfied: idna<4,>=2.5 in c:\\users\\hafizkalimullah\\miniconda3\\envs\\tf-env\\lib\\site-packages (from requests<3,>=2.21.0->tensorflow-intel==2.18.0->tensorflow) (3.10)\n",
      "Requirement already satisfied: urllib3<3,>=1.21.1 in c:\\users\\hafizkalimullah\\miniconda3\\envs\\tf-env\\lib\\site-packages (from requests<3,>=2.21.0->tensorflow-intel==2.18.0->tensorflow) (2.3.0)\n",
      "Requirement already satisfied: certifi>=2017.4.17 in c:\\users\\hafizkalimullah\\miniconda3\\envs\\tf-env\\lib\\site-packages (from requests<3,>=2.21.0->tensorflow-intel==2.18.0->tensorflow) (2024.12.14)\n",
      "Requirement already satisfied: markdown>=2.6.8 in c:\\users\\hafizkalimullah\\miniconda3\\envs\\tf-env\\lib\\site-packages (from tensorboard<2.19,>=2.18->tensorflow-intel==2.18.0->tensorflow) (3.7)\n",
      "Requirement already satisfied: tensorboard-data-server<0.8.0,>=0.7.0 in c:\\users\\hafizkalimullah\\miniconda3\\envs\\tf-env\\lib\\site-packages (from tensorboard<2.19,>=2.18->tensorflow-intel==2.18.0->tensorflow) (0.7.2)\n",
      "Requirement already satisfied: werkzeug>=1.0.1 in c:\\users\\hafizkalimullah\\miniconda3\\envs\\tf-env\\lib\\site-packages (from tensorboard<2.19,>=2.18->tensorflow-intel==2.18.0->tensorflow) (3.1.3)\n",
      "Requirement already satisfied: importlib-metadata>=4.4 in c:\\users\\hafizkalimullah\\miniconda3\\envs\\tf-env\\lib\\site-packages (from markdown>=2.6.8->tensorboard<2.19,>=2.18->tensorflow-intel==2.18.0->tensorflow) (8.5.0)\n",
      "Requirement already satisfied: MarkupSafe>=2.1.1 in c:\\users\\hafizkalimullah\\miniconda3\\envs\\tf-env\\lib\\site-packages (from werkzeug>=1.0.1->tensorboard<2.19,>=2.18->tensorflow-intel==2.18.0->tensorflow) (3.0.2)\n",
      "Requirement already satisfied: markdown-it-py>=2.2.0 in c:\\users\\hafizkalimullah\\miniconda3\\envs\\tf-env\\lib\\site-packages (from rich->keras>=3.5.0->tensorflow-intel==2.18.0->tensorflow) (3.0.0)\n",
      "Requirement already satisfied: pygments<3.0.0,>=2.13.0 in c:\\users\\hafizkalimullah\\miniconda3\\envs\\tf-env\\lib\\site-packages (from rich->keras>=3.5.0->tensorflow-intel==2.18.0->tensorflow) (2.18.0)\n",
      "Requirement already satisfied: zipp>=3.20 in c:\\users\\hafizkalimullah\\miniconda3\\envs\\tf-env\\lib\\site-packages (from importlib-metadata>=4.4->markdown>=2.6.8->tensorboard<2.19,>=2.18->tensorflow-intel==2.18.0->tensorflow) (3.21.0)\n",
      "Requirement already satisfied: mdurl~=0.1 in c:\\users\\hafizkalimullah\\miniconda3\\envs\\tf-env\\lib\\site-packages (from markdown-it-py>=2.2.0->rich->keras>=3.5.0->tensorflow-intel==2.18.0->tensorflow) (0.1.2)\n"
     ]
    },
    {
     "name": "stderr",
     "output_type": "stream",
     "text": [
      "ERROR: unknown command \"intall\" - maybe you meant \"install\"\n",
      "\n"
     ]
    }
   ],
   "source": [
    "!pip install tensorflow\n",
    "!pip intall tensorboard"
   ]
  },
  {
   "cell_type": "code",
   "execution_count": 2,
   "metadata": {
    "execution": {
     "iopub.execute_input": "2024-02-16T13:18:27.128200Z",
     "iopub.status.busy": "2024-02-16T13:18:27.127768Z",
     "iopub.status.idle": "2024-02-16T13:18:27.134635Z",
     "shell.execute_reply": "2024-02-16T13:18:27.133680Z",
     "shell.execute_reply.started": "2024-02-16T13:18:27.128173Z"
    },
    "trusted": true
   },
   "outputs": [
    {
     "name": "stdout",
     "output_type": "stream",
     "text": [
      "WARNING:tensorflow:From C:\\Users\\Hafizkalimullah\\AppData\\Local\\Temp\\ipykernel_5064\\3038728259.py:10: The name tf.logging.set_verbosity is deprecated. Please use tf.compat.v1.logging.set_verbosity instead.\n",
      "\n"
     ]
    }
   ],
   "source": [
    "import tensorflow as tf\n",
    "from tensorflow.keras.models import Sequential\n",
    "from tensorflow.keras.layers import Dense\n",
    "from tensorflow.keras.optimizers import Adam\n",
    "from tensorflow.keras.callbacks import TensorBoard\n",
    "# ignore warnings\n",
    "import warnings\n",
    "warnings.filterwarnings('ignore')\n",
    "# ignore warnings in the output\n",
    "tf.compat.v1.logging.set_verbosity(tf.compat.v1.logging.ERROR)"
   ]
  },
  {
   "cell_type": "markdown",
   "metadata": {},
   "source": [
    "2. **Prepare your data**:\n",
    "\n",
    "For this example, let's assume you have some rectangular data stored in numpy arrays `X_train` and `y_train`."
   ]
  },
  {
   "cell_type": "code",
   "execution_count": 6,
   "metadata": {
    "execution": {
     "iopub.execute_input": "2024-02-16T13:18:27.136537Z",
     "iopub.status.busy": "2024-02-16T13:18:27.136224Z",
     "iopub.status.idle": "2024-02-16T13:18:28.441285Z",
     "shell.execute_reply": "2024-02-16T13:18:28.440391Z",
     "shell.execute_reply.started": "2024-02-16T13:18:27.136501Z"
    },
    "trusted": true
   },
   "outputs": [
    {
     "data": {
      "image/png": "[encoded data removed]",
      "text/plain": [
       "<Figure size 640x480 with 9 Axes>"
      ]
     },
     "metadata": {},
     "output_type": "display_data"
    }
   ],
   "source": [
    "# Load the MNIST dataset\n",
    "mnist = tf.keras.datasets.mnist\n",
    "\n",
    "# Split the dataset into training and testing sets\n",
    "(X_train, y_train), (X_test, y_test) = mnist.load_data()\n",
    "\n",
    "# Normalize the pixel values to be between 0 and 1\n",
    "X_train = X_train / 255.0\n",
    "X_test = X_test / 255.0\n",
    "\n",
    "# plot the first 9 images in the training set\n",
    "import matplotlib.pyplot as plt\n",
    "for i in range(9):\n",
    "    plt.subplot(330 + 1 + i)\n",
    "    plt.imshow(X_train[i], cmap=plt.get_cmap('gray'))\n",
    "plt.show()\n"
   ]
  },
  {
   "cell_type": "markdown",
   "metadata": {},
   "source": [
    "3. **Define your neural network model**:"
   ]
  },
  {
   "cell_type": "code",
   "execution_count": null,
   "metadata": {},
   "outputs": [],
   "source": [
    "pip install matplotlib\n"
   ]
  },
  {
   "cell_type": "code",
   "execution_count": 7,
   "metadata": {
    "execution": {
     "iopub.execute_input": "2024-02-16T13:18:28.443437Z",
     "iopub.status.busy": "2024-02-16T13:18:28.442668Z",
     "iopub.status.idle": "2024-02-16T13:18:28.532117Z",
     "shell.execute_reply": "2024-02-16T13:18:28.531367Z",
     "shell.execute_reply.started": "2024-02-16T13:18:28.443400Z"
    },
    "trusted": true
   },
   "outputs": [],
   "source": [
    "# create the model using convolutional layers, max pooling layers, and a dropout layer\n",
    "model = Sequential([\n",
    "    tf.keras.layers.Conv2D(10, (3, 3), activation='relu', input_shape=(28, 28, 1)), # is line ma ham na 10 filter use kiya ha or har filter ka size 3x3 ha or input shape 28x28 ha  or 1 is channel\n",
    "    tf.keras.layers.MaxPooling2D((2,2)), # is line ma ham na 2x2 ka pool size use kiya ha\n",
    "    tf.keras.layers.Conv2D(10, (3, 3), activation='relu'),# is line ma ham na 10 filter use kiya ha or har filter ka size 3x3 ha\n",
    "    tf.keras.layers.MaxPooling2D((2,2)),\n",
    "\n",
    "    tf.keras.layers.Conv2D(10, (3, 3), activation='relu'),\n",
    "    tf.keras.layers.Conv2D(10, (3, 3), activation='relu'),\n",
    "    tf.keras.layers.MaxPooling2D((1,1)),  # modify the pool size to match the output shape\n",
    "    tf.keras.layers.Flatten(),\n",
    "    tf.keras.layers.Dropout(0.2),  # add dropout layer with a dropout rate of 0.2\n",
    "    tf.keras.layers.Dense(10, activation='softmax')\n",
    "])"
   ]
  },
  {
   "cell_type": "markdown",
   "metadata": {},
   "source": [
    "4. **Compile your model**:"
   ]
  },
  {
   "cell_type": "code",
   "execution_count": 8,
   "metadata": {
    "execution": {
     "iopub.execute_input": "2024-02-16T13:18:28.533481Z",
     "iopub.status.busy": "2024-02-16T13:18:28.533199Z",
     "iopub.status.idle": "2024-02-16T13:19:08.245961Z",
     "shell.execute_reply": "2024-02-16T13:19:08.244943Z",
     "shell.execute_reply.started": "2024-02-16T13:18:28.533456Z"
    },
    "trusted": true
   },
   "outputs": [
    {
     "name": "stdout",
     "output_type": "stream",
     "text": [
      "Epoch 1/5\n",
      "\u001b[1m1875/1875\u001b[0m \u001b[32m━━━━━━━━━━━━━━━━━━━━\u001b[0m\u001b[37m\u001b[0m \u001b[1m19s\u001b[0m 9ms/step - accuracy: 0.5727 - loss: 1.2004 - val_accuracy: 0.9326 - val_loss: 0.2749\n",
      "Epoch 2/5\n",
      "\u001b[1m1875/1875\u001b[0m \u001b[32m━━━━━━━━━━━━━━━━━━━━\u001b[0m\u001b[37m\u001b[0m \u001b[1m12s\u001b[0m 7ms/step - accuracy: 0.8202 - loss: 0.5322 - val_accuracy: 0.9555 - val_loss: 0.1702\n",
      "Epoch 3/5\n",
      "\u001b[1m1875/1875\u001b[0m \u001b[32m━━━━━━━━━━━━━━━━━━━━\u001b[0m\u001b[37m\u001b[0m \u001b[1m25s\u001b[0m 9ms/step - accuracy: 0.8487 - loss: 0.4241 - val_accuracy: 0.9652 - val_loss: 0.1300\n",
      "Epoch 4/5\n",
      "\u001b[1m1875/1875\u001b[0m \u001b[32m━━━━━━━━━━━━━━━━━━━━\u001b[0m\u001b[37m\u001b[0m \u001b[1m14s\u001b[0m 8ms/step - accuracy: 0.8709 - loss: 0.3841 - val_accuracy: 0.9689 - val_loss: 0.1163\n",
      "Epoch 5/5\n",
      "\u001b[1m1875/1875\u001b[0m \u001b[32m━━━━━━━━━━━━━━━━━━━━\u001b[0m\u001b[37m\u001b[0m \u001b[1m14s\u001b[0m 8ms/step - accuracy: 0.8844 - loss: 0.3485 - val_accuracy: 0.9694 - val_loss: 0.1051\n",
      "\u001b[1m313/313\u001b[0m \u001b[32m━━━━━━━━━━━━━━━━━━━━\u001b[0m\u001b[37m\u001b[0m \u001b[1m2s\u001b[0m 5ms/step - accuracy: 0.9606 - loss: 0.1259\n",
      "Test accuracy: 0.9693999886512756\n"
     ]
    },
    {
     "data": {
      "image/png": "[encoded data removed]",
      "text/plain": [
       "<Figure size 640x480 with 1 Axes>"
      ]
     },
     "metadata": {},
     "output_type": "display_data"
    },
    {
     "data": {
      "image/png": "[encoded data removed]",
      "text/plain": [
       "<Figure size 640x480 with 1 Axes>"
      ]
     },
     "metadata": {},
     "output_type": "display_data"
    }
   ],
   "source": [
    "# compile the model \n",
    "model.compile(optimizer='adam',\n",
    "              loss='sparse_categorical_crossentropy',\n",
    "              metrics=['accuracy'])\n",
    "\n",
    "# train the model\n",
    "history = model.fit(X_train, y_train, epochs=5, validation_data=(X_test, y_test))\n",
    "\n",
    "# evaluate the model\n",
    "test_loss, test_acc = model.evaluate(X_test, y_test)\n",
    "print('Test accuracy:', test_acc)\n",
    "\n",
    "# plot the training and validation accuracy and loss at each epoch\n",
    "import matplotlib.pyplot as plt\n",
    "plt.plot(history.history['accuracy'], label='accuracy')\n",
    "plt.plot(history.history['val_accuracy'], label = 'val_accuracy')\n",
    "plt.xlabel('Epoch')\n",
    "plt.ylabel('Accuracy')\n",
    "plt.ylim([0, 1])\n",
    "plt.legend(loc='lower right')\n",
    "plt.show()\n",
    "\n",
    "plt.plot(history.history['loss'], label='loss')\n",
    "plt.plot(history.history['val_loss'], label = 'val_loss')\n",
    "plt.xlabel('Epoch')\n",
    "plt.ylabel('Loss')\n",
    "plt.ylim([0, 1])\n",
    "plt.legend(loc='lower right')\n",
    "plt.show()"
   ]
  },
  {
   "cell_type": "code",
   "execution_count": 10,
   "metadata": {
    "execution": {
     "iopub.execute_input": "2024-02-16T13:19:08.249019Z",
     "iopub.status.busy": "2024-02-16T13:19:08.248689Z",
     "iopub.status.idle": "2024-02-16T13:19:08.669015Z",
     "shell.execute_reply": "2024-02-16T13:19:08.668042Z",
     "shell.execute_reply.started": "2024-02-16T13:19:08.248993Z"
    },
    "trusted": true
   },
   "outputs": [
    {
     "data": {
      "image/png": "[encoded data removed]",
      "text/plain": [
       "<Figure size 640x480 with 1 Axes>"
      ]
     },
     "metadata": {},
     "output_type": "display_data"
    },
    {
     "data": {
      "image/png": "[encoded data removed]",
      "text/plain": [
       "<Figure size 640x480 with 1 Axes>"
      ]
     },
     "metadata": {},
     "output_type": "display_data"
    }
   ],
   "source": [
    "# plot the training and validation accuracy and loss at each epoch\n",
    "import matplotlib.pyplot as plt\n",
    "plt.plot(history.history['accuracy'], label='accuracy')\n",
    "plt.plot(history.history['val_accuracy'], label = 'val_accuracy')\n",
    "plt.xlabel('Epoch')\n",
    "plt.ylabel('Accuracy')\n",
    "# plt.ylim([0, 1])\n",
    "plt.legend(loc='lower right')\n",
    "plt.show()\n",
    "\n",
    "plt.plot(history.history['loss'], label='loss')\n",
    "plt.plot(history.history['val_loss'], label = 'val_loss')\n",
    "plt.xlabel('Epoch')\n",
    "plt.ylabel('Loss')\n",
    "# plt.ylim([0, 1])\n",
    "plt.legend(loc='lower right')\n",
    "plt.show()"
   ]
  },
  {
   "cell_type": "markdown",
   "metadata": {},
   "source": [
    "`Lets's do it with tensorboard`"
   ]
  },
  {
   "cell_type": "code",
   "execution_count": 11,
   "metadata": {
    "execution": {
     "iopub.execute_input": "2024-02-16T13:19:08.670792Z",
     "iopub.status.busy": "2024-02-16T13:19:08.670392Z",
     "iopub.status.idle": "2024-02-16T13:19:08.772379Z",
     "shell.execute_reply": "2024-02-16T13:19:08.771490Z",
     "shell.execute_reply.started": "2024-02-16T13:19:08.670755Z"
    },
    "trusted": true
   },
   "outputs": [],
   "source": [
    "# create the model using convolutional layers, max pooling layers, and a dropout layer\n",
    "model = Sequential([\n",
    "    tf.keras.layers.Conv2D(10, (3, 3), activation='relu', input_shape=(28, 28, 1)),\n",
    "    tf.keras.layers.MaxPooling2D((2,2)),\n",
    "    tf.keras.layers.Conv2D(10, (3, 3), activation='relu'),\n",
    "    tf.keras.layers.MaxPooling2D((2,2)),\n",
    "\n",
    "    tf.keras.layers.Conv2D(10, (3, 3), activation='relu'),\n",
    "    tf.keras.layers.Conv2D(10, (3, 3), activation='relu'),\n",
    "    tf.keras.layers.MaxPooling2D((1,1)),  # modify the pool size to match the output shape\n",
    "    tf.keras.layers.Flatten(),\n",
    "    tf.keras.layers.Dropout(0.2),  # add dropout layer with a dropout rate of 0.2\n",
    "    tf.keras.layers.Dense(10, activation='softmax')\n",
    "])\n",
    "# compile the model\n",
    "model.compile(optimizer='adam',\n",
    "              loss='sparse_categorical_crossentropy',\n",
    "              metrics=['accuracy'])"
   ]
  },
  {
   "cell_type": "markdown",
   "metadata": {},
   "source": [
    "5. **Set up TensorBoard callback**:"
   ]
  },
  {
   "cell_type": "code",
   "execution_count": 12,
   "metadata": {
    "execution": {
     "iopub.execute_input": "2024-02-16T13:19:08.773836Z",
     "iopub.status.busy": "2024-02-16T13:19:08.773520Z",
     "iopub.status.idle": "2024-02-16T13:19:09.830183Z",
     "shell.execute_reply": "2024-02-16T13:19:09.828628Z",
     "shell.execute_reply.started": "2024-02-16T13:19:08.773809Z"
    },
    "trusted": true
   },
   "outputs": [
    {
     "name": "stderr",
     "output_type": "stream",
     "text": [
      "'rm' is not recognized as an internal or external command,\n",
      "operable program or batch file.\n"
     ]
    }
   ],
   "source": [
    "# Clear any logs from previous runs\n",
    "!rm -rf ./logs/"
   ]
  },
  {
   "cell_type": "code",
   "execution_count": 13,
   "metadata": {
    "execution": {
     "iopub.execute_input": "2024-02-16T13:19:09.832321Z",
     "iopub.status.busy": "2024-02-16T13:19:09.831990Z",
     "iopub.status.idle": "2024-02-16T13:19:09.846022Z",
     "shell.execute_reply": "2024-02-16T13:19:09.845057Z",
     "shell.execute_reply.started": "2024-02-16T13:19:09.832290Z"
    },
    "trusted": true
   },
   "outputs": [],
   "source": [
    "tensorboard_callback = TensorBoard(log_dir='./logs/adam', histogram_freq=1)"
   ]
  },
  {
   "cell_type": "markdown",
   "metadata": {},
   "source": [
    "6. **Train your model**:"
   ]
  },
  {
   "cell_type": "code",
   "execution_count": 14,
   "metadata": {
    "execution": {
     "iopub.execute_input": "2024-02-16T13:19:09.847592Z",
     "iopub.status.busy": "2024-02-16T13:19:09.847280Z",
     "iopub.status.idle": "2024-02-16T13:19:53.109126Z",
     "shell.execute_reply": "2024-02-16T13:19:53.108248Z",
     "shell.execute_reply.started": "2024-02-16T13:19:09.847568Z"
    },
    "trusted": true
   },
   "outputs": [
    {
     "name": "stdout",
     "output_type": "stream",
     "text": [
      "Epoch 1/5\n",
      "\u001b[1m1875/1875\u001b[0m \u001b[32m━━━━━━━━━━━━━━━━━━━━\u001b[0m\u001b[37m\u001b[0m \u001b[1m24s\u001b[0m 12ms/step - accuracy: 0.6242 - loss: 1.0589 - val_accuracy: 0.9537 - val_loss: 0.1710\n",
      "Epoch 2/5\n",
      "\u001b[1m1875/1875\u001b[0m \u001b[32m━━━━━━━━━━━━━━━━━━━━\u001b[0m\u001b[37m\u001b[0m \u001b[1m21s\u001b[0m 11ms/step - accuracy: 0.8703 - loss: 0.4032 - val_accuracy: 0.9644 - val_loss: 0.1254\n",
      "Epoch 3/5\n",
      "\u001b[1m1875/1875\u001b[0m \u001b[32m━━━━━━━━━━━━━━━━━━━━\u001b[0m\u001b[37m\u001b[0m \u001b[1m14s\u001b[0m 7ms/step - accuracy: 0.8953 - loss: 0.3296 - val_accuracy: 0.9711 - val_loss: 0.1018\n",
      "Epoch 4/5\n",
      "\u001b[1m1875/1875\u001b[0m \u001b[32m━━━━━━━━━━━━━━━━━━━━\u001b[0m\u001b[37m\u001b[0m \u001b[1m13s\u001b[0m 7ms/step - accuracy: 0.9128 - loss: 0.2818 - val_accuracy: 0.9719 - val_loss: 0.0956\n",
      "Epoch 5/5\n",
      "\u001b[1m1875/1875\u001b[0m \u001b[32m━━━━━━━━━━━━━━━━━━━━\u001b[0m\u001b[37m\u001b[0m \u001b[1m13s\u001b[0m 7ms/step - accuracy: 0.9200 - loss: 0.2528 - val_accuracy: 0.9751 - val_loss: 0.0893\n"
     ]
    },
    {
     "data": {
      "text/plain": [
       "<keras.src.callbacks.history.History at 0x2cc00ec2dc0>"
      ]
     },
     "execution_count": 14,
     "metadata": {},
     "output_type": "execute_result"
    }
   ],
   "source": [
    "model.fit(X_train, y_train, epochs=5, batch_size=32, validation_data=(X_test,y_test), callbacks=[tensorboard_callback])"
   ]
  },
  {
   "cell_type": "markdown",
   "metadata": {},
   "source": [
    "7. **Run TensorBoard**:\n",
    "\n",
    "Open a terminal and navigate to your working directory. Then run:\n"
   ]
  },
  {
   "cell_type": "code",
   "execution_count": 15,
   "metadata": {
    "execution": {
     "iopub.execute_input": "2024-02-16T13:19:53.110723Z",
     "iopub.status.busy": "2024-02-16T13:19:53.110414Z",
     "iopub.status.idle": "2024-02-16T13:19:53.130727Z",
     "shell.execute_reply": "2024-02-16T13:19:53.129776Z",
     "shell.execute_reply.started": "2024-02-16T13:19:53.110696Z"
    },
    "trusted": true
   },
   "outputs": [],
   "source": [
    "# Activate inline tensorboard extension\n",
    "%load_ext tensorboard"
   ]
  },
  {
   "cell_type": "code",
   "execution_count": 16,
   "metadata": {
    "execution": {
     "iopub.execute_input": "2024-02-16T13:19:53.132307Z",
     "iopub.status.busy": "2024-02-16T13:19:53.131982Z",
     "iopub.status.idle": "2024-02-16T13:20:00.157939Z",
     "shell.execute_reply": "2024-02-16T13:20:00.156962Z",
     "shell.execute_reply.started": "2024-02-16T13:19:53.132279Z"
    },
    "trusted": true
   },
   "outputs": [
    {
     "data": {
      "text/html": [
       "\n",
       "      <iframe id=\"tensorboard-frame-d4dba9ab000779b8\" width=\"100%\" height=\"800\" frameborder=\"0\">\n",
       "      </iframe>\n",
       "      <script>\n",
       "        (function() {\n",
       "          const frame = document.getElementById(\"tensorboard-frame-d4dba9ab000779b8\");\n",
       "          const url = new URL(\"/\", window.location);\n",
       "          const port = 6006;\n",
       "          if (port) {\n",
       "            url.port = port;\n",
       "          }\n",
       "          frame.src = url;\n",
       "        })();\n",
       "      </script>\n",
       "    "
      ],
      "text/plain": [
       "<IPython.core.display.HTML object>"
      ]
     },
     "metadata": {},
     "output_type": "display_data"
    }
   ],
   "source": [
    "# run tensorboad in the notebook try using with and without %sign\n",
    "%tensorboard --logdir=./logs"
   ]
  },
  {
   "cell_type": "markdown",
   "metadata": {},
   "source": [
    "8. **Visualize training progress**:\n",
    "\n",
    "Once TensorBoard is running, you can navigate to the Scalars tab to visualize metrics like loss and accuracy over training epochs. You can also explore other tabs like Graphs, Histograms, and Distributions to gain insights into your model's structure and behavior.\n",
    "\n",
    "That's it! This is a basic example of how to use TensorBoard to visualize the training process of a simple neural network for rectangular data. You can further customize the TensorBoard callback to log additional information or use more advanced features as needed."
   ]
  },
  {
   "cell_type": "markdown",
   "metadata": {},
   "source": [
    "9. **Hyper parameter Tuning and visualization**:"
   ]
  },
  {
   "cell_type": "code",
   "execution_count": 17,
   "metadata": {
    "execution": {
     "iopub.execute_input": "2024-02-16T13:20:00.160134Z",
     "iopub.status.busy": "2024-02-16T13:20:00.159511Z",
     "iopub.status.idle": "2024-02-16T13:20:40.445111Z",
     "shell.execute_reply": "2024-02-16T13:20:40.444200Z",
     "shell.execute_reply.started": "2024-02-16T13:20:00.160096Z"
    },
    "trusted": true
   },
   "outputs": [
    {
     "name": "stdout",
     "output_type": "stream",
     "text": [
      "Epoch 1/5\n",
      "\u001b[1m1875/1875\u001b[0m \u001b[32m━━━━━━━━━━━━━━━━━━━━\u001b[0m\u001b[37m\u001b[0m \u001b[1m17s\u001b[0m 9ms/step - accuracy: 0.2550 - loss: 2.0914 - val_accuracy: 0.8526 - val_loss: 0.6236\n",
      "Epoch 2/5\n",
      "\u001b[1m1875/1875\u001b[0m \u001b[32m━━━━━━━━━━━━━━━━━━━━\u001b[0m\u001b[37m\u001b[0m \u001b[1m11s\u001b[0m 6ms/step - accuracy: 0.7262 - loss: 0.8181 - val_accuracy: 0.9224 - val_loss: 0.2901\n",
      "Epoch 3/5\n",
      "\u001b[1m1875/1875\u001b[0m \u001b[32m━━━━━━━━━━━━━━━━━━━━\u001b[0m\u001b[37m\u001b[0m \u001b[1m10s\u001b[0m 5ms/step - accuracy: 0.8049 - loss: 0.5692 - val_accuracy: 0.9439 - val_loss: 0.2057\n",
      "Epoch 4/5\n",
      "\u001b[1m1875/1875\u001b[0m \u001b[32m━━━━━━━━━━━━━━━━━━━━\u001b[0m\u001b[37m\u001b[0m \u001b[1m10s\u001b[0m 5ms/step - accuracy: 0.8350 - loss: 0.4736 - val_accuracy: 0.9543 - val_loss: 0.1665\n",
      "Epoch 5/5\n",
      "\u001b[1m1875/1875\u001b[0m \u001b[32m━━━━━━━━━━━━━━━━━━━━\u001b[0m\u001b[37m\u001b[0m \u001b[1m10s\u001b[0m 5ms/step - accuracy: 0.8537 - loss: 0.4223 - val_accuracy: 0.9583 - val_loss: 0.1423\n"
     ]
    },
    {
     "data": {
      "text/plain": [
       "Reusing TensorBoard on port 6006 (pid 1544), started 0:04:32 ago. (Use '!kill 1544' to kill it.)"
      ]
     },
     "metadata": {},
     "output_type": "display_data"
    },
    {
     "data": {
      "text/html": [
       "\n",
       "      <iframe id=\"tensorboard-frame-8070ee0a0a7ebef5\" width=\"100%\" height=\"800\" frameborder=\"0\">\n",
       "      </iframe>\n",
       "      <script>\n",
       "        (function() {\n",
       "          const frame = document.getElementById(\"tensorboard-frame-8070ee0a0a7ebef5\");\n",
       "          const url = new URL(\"http://localhost\");\n",
       "          const port = 6006;\n",
       "          if (port) {\n",
       "            url.port = port;\n",
       "          }\n",
       "          frame.src = url;\n",
       "        })();\n",
       "      </script>\n",
       "    "
      ],
      "text/plain": [
       "<IPython.core.display.HTML object>"
      ]
     },
     "metadata": {},
     "output_type": "display_data"
    }
   ],
   "source": [
    "# create the model using convolutional layers, max pooling layers, and a dropout layer\n",
    "model = Sequential([\n",
    "    tf.keras.layers.Conv2D(10, (3, 3), activation='relu', input_shape=(28, 28, 1)),\n",
    "    tf.keras.layers.MaxPooling2D((2,2)),\n",
    "    tf.keras.layers.Conv2D(10, (3, 3), activation='relu'),\n",
    "    tf.keras.layers.MaxPooling2D((2,2)),\n",
    "\n",
    "    tf.keras.layers.Conv2D(10, (3, 3), activation='relu'),\n",
    "    tf.keras.layers.Conv2D(10, (3, 3), activation='relu'),\n",
    "    tf.keras.layers.MaxPooling2D((1,1)),  # modify the pool size to match the output shape\n",
    "    tf.keras.layers.Flatten(),\n",
    "    tf.keras.layers.Dropout(0.2),  # add dropout layer with a dropout rate of 0.2\n",
    "    tf.keras.layers.Dense(10, activation='softmax')\n",
    "])\n",
    "# compile the model with SGD optimizer\n",
    "model.compile(optimizer='SGD',\n",
    "              loss='sparse_categorical_crossentropy',\n",
    "              metrics=['accuracy'])\n",
    "\n",
    "tensorboard_callback = TensorBoard(log_dir='./logs/SGD', histogram_freq=1)\n",
    "model.fit(X_train, y_train, epochs=5, batch_size=32, validation_data=(X_test,y_test), callbacks=[tensorboard_callback])\n",
    "%tensorboard --logdir=./logs"
   ]
  },
  {
   "cell_type": "markdown",
   "metadata": {},
   "source": [
    "**Hyper-Paramter Tuning and Visualization using Tensorboard**"
   ]
  },
  {
   "cell_type": "code",
   "execution_count": 18,
   "metadata": {
    "execution": {
     "iopub.execute_input": "2024-02-16T13:20:40.446615Z",
     "iopub.status.busy": "2024-02-16T13:20:40.446314Z",
     "iopub.status.idle": "2024-02-16T13:25:47.767026Z",
     "shell.execute_reply": "2024-02-16T13:25:47.766133Z",
     "shell.execute_reply.started": "2024-02-16T13:20:40.446590Z"
    },
    "trusted": true
   },
   "outputs": [
    {
     "name": "stdout",
     "output_type": "stream",
     "text": [
      "Epoch 1/5\n",
      "\u001b[1m3750/3750\u001b[0m \u001b[32m━━━━━━━━━━━━━━━━━━━━\u001b[0m\u001b[37m\u001b[0m \u001b[1m22s\u001b[0m 6ms/step - accuracy: 0.4203 - loss: 1.5630 - val_accuracy: 0.9335 - val_loss: 0.2551\n",
      "Epoch 2/5\n",
      "\u001b[1m3750/3750\u001b[0m \u001b[32m━━━━━━━━━━━━━━━━━━━━\u001b[0m\u001b[37m\u001b[0m \u001b[1m20s\u001b[0m 5ms/step - accuracy: 0.8113 - loss: 0.5567 - val_accuracy: 0.9527 - val_loss: 0.1720\n",
      "Epoch 3/5\n",
      "\u001b[1m3750/3750\u001b[0m \u001b[32m━━━━━━━━━━━━━━━━━━━━\u001b[0m\u001b[37m\u001b[0m \u001b[1m20s\u001b[0m 5ms/step - accuracy: 0.8579 - loss: 0.4335 - val_accuracy: 0.9615 - val_loss: 0.1294\n",
      "Epoch 4/5\n",
      "\u001b[1m3750/3750\u001b[0m \u001b[32m━━━━━━━━━━━━━━━━━━━━\u001b[0m\u001b[37m\u001b[0m \u001b[1m20s\u001b[0m 5ms/step - accuracy: 0.8767 - loss: 0.3598 - val_accuracy: 0.9585 - val_loss: 0.1304\n",
      "Epoch 5/5\n",
      "\u001b[1m3750/3750\u001b[0m \u001b[32m━━━━━━━━━━━━━━━━━━━━\u001b[0m\u001b[37m\u001b[0m \u001b[1m19s\u001b[0m 5ms/step - accuracy: 0.8953 - loss: 0.3098 - val_accuracy: 0.9698 - val_loss: 0.0964\n",
      "Epoch 1/5\n",
      "\u001b[1m1875/1875\u001b[0m \u001b[32m━━━━━━━━━━━━━━━━━━━━\u001b[0m\u001b[37m\u001b[0m \u001b[1m12s\u001b[0m 6ms/step - accuracy: 0.9122 - loss: 0.2607 - val_accuracy: 0.9751 - val_loss: 0.0811\n",
      "Epoch 2/5\n",
      "\u001b[1m1875/1875\u001b[0m \u001b[32m━━━━━━━━━━━━━━━━━━━━\u001b[0m\u001b[37m\u001b[0m \u001b[1m15s\u001b[0m 8ms/step - accuracy: 0.9168 - loss: 0.2508 - val_accuracy: 0.9721 - val_loss: 0.0874\n",
      "Epoch 3/5\n",
      "\u001b[1m1875/1875\u001b[0m \u001b[32m━━━━━━━━━━━━━━━━━━━━\u001b[0m\u001b[37m\u001b[0m \u001b[1m12s\u001b[0m 7ms/step - accuracy: 0.9168 - loss: 0.2502 - val_accuracy: 0.9753 - val_loss: 0.0792\n",
      "Epoch 4/5\n",
      "\u001b[1m1875/1875\u001b[0m \u001b[32m━━━━━━━━━━━━━━━━━━━━\u001b[0m\u001b[37m\u001b[0m \u001b[1m12s\u001b[0m 6ms/step - accuracy: 0.9213 - loss: 0.2382 - val_accuracy: 0.9765 - val_loss: 0.0784\n",
      "Epoch 5/5\n",
      "\u001b[1m1875/1875\u001b[0m \u001b[32m━━━━━━━━━━━━━━━━━━━━\u001b[0m\u001b[37m\u001b[0m \u001b[1m16s\u001b[0m 9ms/step - accuracy: 0.9218 - loss: 0.2335 - val_accuracy: 0.9772 - val_loss: 0.0746\n",
      "Epoch 1/5\n",
      "\u001b[1m938/938\u001b[0m \u001b[32m━━━━━━━━━━━━━━━━━━━━\u001b[0m\u001b[37m\u001b[0m \u001b[1m8s\u001b[0m 8ms/step - accuracy: 0.9232 - loss: 0.2317 - val_accuracy: 0.9781 - val_loss: 0.0712\n",
      "Epoch 2/5\n",
      "\u001b[1m938/938\u001b[0m \u001b[32m━━━━━━━━━━━━━━━━━━━━\u001b[0m\u001b[37m\u001b[0m \u001b[1m8s\u001b[0m 8ms/step - accuracy: 0.9246 - loss: 0.2266 - val_accuracy: 0.9774 - val_loss: 0.0721\n",
      "Epoch 3/5\n",
      "\u001b[1m938/938\u001b[0m \u001b[32m━━━━━━━━━━━━━━━━━━━━\u001b[0m\u001b[37m\u001b[0m \u001b[1m8s\u001b[0m 8ms/step - accuracy: 0.9273 - loss: 0.2187 - val_accuracy: 0.9775 - val_loss: 0.0724\n",
      "Epoch 4/5\n",
      "\u001b[1m938/938\u001b[0m \u001b[32m━━━━━━━━━━━━━━━━━━━━\u001b[0m\u001b[37m\u001b[0m \u001b[1m8s\u001b[0m 8ms/step - accuracy: 0.9260 - loss: 0.2183 - val_accuracy: 0.9798 - val_loss: 0.0706\n",
      "Epoch 5/5\n",
      "\u001b[1m938/938\u001b[0m \u001b[32m━━━━━━━━━━━━━━━━━━━━\u001b[0m\u001b[37m\u001b[0m \u001b[1m8s\u001b[0m 8ms/step - accuracy: 0.9306 - loss: 0.2118 - val_accuracy: 0.9801 - val_loss: 0.0701\n",
      "Epoch 1/5\n",
      "\u001b[1m469/469\u001b[0m \u001b[32m━━━━━━━━━━━━━━━━━━━━\u001b[0m\u001b[37m\u001b[0m \u001b[1m6s\u001b[0m 12ms/step - accuracy: 0.9277 - loss: 0.2155 - val_accuracy: 0.9795 - val_loss: 0.0683\n",
      "Epoch 2/5\n",
      "\u001b[1m469/469\u001b[0m \u001b[32m━━━━━━━━━━━━━━━━━━━━\u001b[0m\u001b[37m\u001b[0m \u001b[1m5s\u001b[0m 11ms/step - accuracy: 0.9287 - loss: 0.2085 - val_accuracy: 0.9798 - val_loss: 0.0671\n",
      "Epoch 3/5\n",
      "\u001b[1m469/469\u001b[0m \u001b[32m━━━━━━━━━━━━━━━━━━━━\u001b[0m\u001b[37m\u001b[0m \u001b[1m5s\u001b[0m 12ms/step - accuracy: 0.9301 - loss: 0.2096 - val_accuracy: 0.9796 - val_loss: 0.0675\n",
      "Epoch 4/5\n",
      "\u001b[1m469/469\u001b[0m \u001b[32m━━━━━━━━━━━━━━━━━━━━\u001b[0m\u001b[37m\u001b[0m \u001b[1m5s\u001b[0m 11ms/step - accuracy: 0.9326 - loss: 0.2045 - val_accuracy: 0.9798 - val_loss: 0.0677\n",
      "Epoch 5/5\n",
      "\u001b[1m469/469\u001b[0m \u001b[32m━━━━━━━━━━━━━━━━━━━━\u001b[0m\u001b[37m\u001b[0m \u001b[1m6s\u001b[0m 12ms/step - accuracy: 0.9315 - loss: 0.2114 - val_accuracy: 0.9799 - val_loss: 0.0670\n",
      "Epoch 1/5\n",
      "\u001b[1m3750/3750\u001b[0m \u001b[32m━━━━━━━━━━━━━━━━━━━━\u001b[0m\u001b[37m\u001b[0m \u001b[1m25s\u001b[0m 6ms/step - accuracy: 0.6209 - loss: 1.0843 - val_accuracy: 0.9572 - val_loss: 0.1633\n",
      "Epoch 2/5\n",
      "\u001b[1m3750/3750\u001b[0m \u001b[32m━━━━━━━━━━━━━━━━━━━━\u001b[0m\u001b[37m\u001b[0m \u001b[1m18s\u001b[0m 5ms/step - accuracy: 0.8725 - loss: 0.3827 - val_accuracy: 0.9656 - val_loss: 0.1127\n",
      "Epoch 3/5\n",
      "\u001b[1m3750/3750\u001b[0m \u001b[32m━━━━━━━━━━━━━━━━━━━━\u001b[0m\u001b[37m\u001b[0m \u001b[1m28s\u001b[0m 8ms/step - accuracy: 0.8981 - loss: 0.3082 - val_accuracy: 0.9742 - val_loss: 0.0893\n",
      "Epoch 4/5\n",
      "\u001b[1m3750/3750\u001b[0m \u001b[32m━━━━━━━━━━━━━━━━━━━━\u001b[0m\u001b[37m\u001b[0m \u001b[1m28s\u001b[0m 7ms/step - accuracy: 0.9063 - loss: 0.2841 - val_accuracy: 0.9778 - val_loss: 0.0788\n",
      "Epoch 5/5\n",
      "\u001b[1m3750/3750\u001b[0m \u001b[32m━━━━━━━━━━━━━━━━━━━━\u001b[0m\u001b[37m\u001b[0m \u001b[1m21s\u001b[0m 6ms/step - accuracy: 0.9152 - loss: 0.2580 - val_accuracy: 0.9770 - val_loss: 0.0775\n",
      "Epoch 1/5\n",
      "\u001b[1m1875/1875\u001b[0m \u001b[32m━━━━━━━━━━━━━━━━━━━━\u001b[0m\u001b[37m\u001b[0m \u001b[1m14s\u001b[0m 7ms/step - accuracy: 0.9239 - loss: 0.2314 - val_accuracy: 0.9800 - val_loss: 0.0708\n",
      "Epoch 2/5\n",
      "\u001b[1m1875/1875\u001b[0m \u001b[32m━━━━━━━━━━━━━━━━━━━━\u001b[0m\u001b[37m\u001b[0m \u001b[1m12s\u001b[0m 6ms/step - accuracy: 0.9267 - loss: 0.2266 - val_accuracy: 0.9803 - val_loss: 0.0681\n",
      "Epoch 3/5\n",
      "\u001b[1m1875/1875\u001b[0m \u001b[32m━━━━━━━━━━━━━━━━━━━━\u001b[0m\u001b[37m\u001b[0m \u001b[1m11s\u001b[0m 6ms/step - accuracy: 0.9280 - loss: 0.2229 - val_accuracy: 0.9814 - val_loss: 0.0638\n",
      "Epoch 4/5\n",
      "\u001b[1m1875/1875\u001b[0m \u001b[32m━━━━━━━━━━━━━━━━━━━━\u001b[0m\u001b[37m\u001b[0m \u001b[1m11s\u001b[0m 6ms/step - accuracy: 0.9317 - loss: 0.2128 - val_accuracy: 0.9816 - val_loss: 0.0651\n",
      "Epoch 5/5\n",
      "\u001b[1m1875/1875\u001b[0m \u001b[32m━━━━━━━━━━━━━━━━━━━━\u001b[0m\u001b[37m\u001b[0m \u001b[1m11s\u001b[0m 6ms/step - accuracy: 0.9331 - loss: 0.2123 - val_accuracy: 0.9829 - val_loss: 0.0606\n",
      "Epoch 1/5\n",
      "\u001b[1m938/938\u001b[0m \u001b[32m━━━━━━━━━━━━━━━━━━━━\u001b[0m\u001b[37m\u001b[0m \u001b[1m7s\u001b[0m 7ms/step - accuracy: 0.9388 - loss: 0.1947 - val_accuracy: 0.9831 - val_loss: 0.0604\n",
      "Epoch 2/5\n",
      "\u001b[1m938/938\u001b[0m \u001b[32m━━━━━━━━━━━━━━━━━━━━\u001b[0m\u001b[37m\u001b[0m \u001b[1m7s\u001b[0m 7ms/step - accuracy: 0.9410 - loss: 0.1921 - val_accuracy: 0.9820 - val_loss: 0.0624\n",
      "Epoch 3/5\n",
      "\u001b[1m938/938\u001b[0m \u001b[32m━━━━━━━━━━━━━━━━━━━━\u001b[0m\u001b[37m\u001b[0m \u001b[1m7s\u001b[0m 7ms/step - accuracy: 0.9386 - loss: 0.1973 - val_accuracy: 0.9837 - val_loss: 0.0649\n",
      "Epoch 4/5\n",
      "\u001b[1m938/938\u001b[0m \u001b[32m━━━━━━━━━━━━━━━━━━━━\u001b[0m\u001b[37m\u001b[0m \u001b[1m7s\u001b[0m 7ms/step - accuracy: 0.9390 - loss: 0.1946 - val_accuracy: 0.9836 - val_loss: 0.0590\n",
      "Epoch 5/5\n",
      "\u001b[1m938/938\u001b[0m \u001b[32m━━━━━━━━━━━━━━━━━━━━\u001b[0m\u001b[37m\u001b[0m \u001b[1m7s\u001b[0m 7ms/step - accuracy: 0.9425 - loss: 0.1886 - val_accuracy: 0.9841 - val_loss: 0.0605\n",
      "Epoch 1/5\n",
      "\u001b[1m469/469\u001b[0m \u001b[32m━━━━━━━━━━━━━━━━━━━━\u001b[0m\u001b[37m\u001b[0m \u001b[1m5s\u001b[0m 10ms/step - accuracy: 0.9449 - loss: 0.1805 - val_accuracy: 0.9849 - val_loss: 0.0606\n",
      "Epoch 2/5\n",
      "\u001b[1m469/469\u001b[0m \u001b[32m━━━━━━━━━━━━━━━━━━━━\u001b[0m\u001b[37m\u001b[0m \u001b[1m5s\u001b[0m 10ms/step - accuracy: 0.9429 - loss: 0.1843 - val_accuracy: 0.9838 - val_loss: 0.0576\n",
      "Epoch 3/5\n",
      "\u001b[1m469/469\u001b[0m \u001b[32m━━━━━━━━━━━━━━━━━━━━\u001b[0m\u001b[37m\u001b[0m \u001b[1m5s\u001b[0m 10ms/step - accuracy: 0.9450 - loss: 0.1739 - val_accuracy: 0.9839 - val_loss: 0.0611\n",
      "Epoch 4/5\n",
      "\u001b[1m469/469\u001b[0m \u001b[32m━━━━━━━━━━━━━━━━━━━━\u001b[0m\u001b[37m\u001b[0m \u001b[1m5s\u001b[0m 11ms/step - accuracy: 0.9456 - loss: 0.1751 - val_accuracy: 0.9849 - val_loss: 0.0587\n",
      "Epoch 5/5\n",
      "\u001b[1m469/469\u001b[0m \u001b[32m━━━━━━━━━━━━━━━━━━━━\u001b[0m\u001b[37m\u001b[0m \u001b[1m7s\u001b[0m 16ms/step - accuracy: 0.9453 - loss: 0.1804 - val_accuracy: 0.9842 - val_loss: 0.0570\n",
      "The tensorboard extension is already loaded. To reload it, use:\n",
      "  %reload_ext tensorboard\n"
     ]
    },
    {
     "data": {
      "text/plain": [
       "Reusing TensorBoard on port 6006 (pid 1544), started 0:12:56 ago. (Use '!kill 1544' to kill it.)"
      ]
     },
     "metadata": {},
     "output_type": "display_data"
    },
    {
     "data": {
      "text/html": [
       "\n",
       "      <iframe id=\"tensorboard-frame-f5fdb9315fc780fd\" width=\"100%\" height=\"800\" frameborder=\"0\">\n",
       "      </iframe>\n",
       "      <script>\n",
       "        (function() {\n",
       "          const frame = document.getElementById(\"tensorboard-frame-f5fdb9315fc780fd\");\n",
       "          const url = new URL(\"http://localhost\");\n",
       "          const port = 6006;\n",
       "          if (port) {\n",
       "            url.port = port;\n",
       "          }\n",
       "          frame.src = url;\n",
       "        })();\n",
       "      </script>\n",
       "    "
      ],
      "text/plain": [
       "<IPython.core.display.HTML object>"
      ]
     },
     "metadata": {},
     "output_type": "display_data"
    }
   ],
   "source": [
    "# Define different optimizers\n",
    "optimizers = ['SGD', 'Adam']\n",
    "# optimizer = ['SGD', 'Adam', 'RMSprop', 'Adagrad', 'Adadelta', 'Adamax', 'Nadam']\n",
    "\n",
    "# Train the model with different optimizers and store each optimizer in a different callback function\n",
    "for optimizer in optimizers:\n",
    "    model = Sequential([\n",
    "        tf.keras.layers.Conv2D(10, (3, 3), activation='relu', input_shape=(28, 28, 1)),\n",
    "        tf.keras.layers.MaxPooling2D((2,2)),\n",
    "        tf.keras.layers.Conv2D(10, (3, 3), activation='relu'),\n",
    "        tf.keras.layers.MaxPooling2D((2,2)),\n",
    "        tf.keras.layers.Conv2D(10, (3, 3), activation='relu'),\n",
    "        tf.keras.layers.Conv2D(10, (3, 3), activation='relu'),\n",
    "        tf.keras.layers.MaxPooling2D((1,1)),\n",
    "        tf.keras.layers.Flatten(),\n",
    "        tf.keras.layers.Dropout(0.2),\n",
    "        tf.keras.layers.Dense(10, activation='softmax')\n",
    "    ])\n",
    "    \n",
    "    model.compile(optimizer=optimizer,\n",
    "                  loss='sparse_categorical_crossentropy',\n",
    "                  metrics=['accuracy'])\n",
    "    \n",
    "    # Define different batch sizes\n",
    "    batch_sizes = [16, 32, 64, 128]\n",
    "    \n",
    "    # Train the model with different batch sizes and store each batch size in a different callback function\n",
    "    for batch_size in batch_sizes:\n",
    "        log_dir = f'./logs/{optimizer}_batch_size_{batch_size}'\n",
    "        tensorboard_callback = TensorBoard(log_dir=log_dir, histogram_freq=1)\n",
    "        model.fit(X_train, y_train, epochs=5, batch_size=batch_size, validation_data=(X_test,y_test), \n",
    "                  callbacks=[tensorboard_callback])\n",
    "\n",
    "# Load the TensorBoard notebook extension\n",
    "%load_ext tensorboard\n",
    "\n",
    "# Run TensorBoard\n",
    "%tensorboard --logdir=./logs"
   ]
  },
  {
   "cell_type": "code",
   "execution_count": 4,
   "metadata": {},
   "outputs": [
    {
     "data": {
      "text/plain": [
       "Reusing TensorBoard on port 6007 (pid 60114), started 0:06:08 ago. (Use '!kill 60114' to kill it.)"
      ]
     },
     "metadata": {},
     "output_type": "display_data"
    },
    {
     "data": {
      "text/html": [
       "\n",
       "      <iframe id=\"tensorboard-frame-72be5da33960dac6\" width=\"100%\" height=\"800\" frameborder=\"0\">\n",
       "      </iframe>\n",
       "      <script>\n",
       "        (function() {\n",
       "          const frame = document.getElementById(\"tensorboard-frame-72be5da33960dac6\");\n",
       "          const url = new URL(\"http://localhost\");\n",
       "          const port = 6007;\n",
       "          if (port) {\n",
       "            url.port = port;\n",
       "          }\n",
       "          frame.src = url;\n",
       "        })();\n",
       "      </script>\n",
       "    "
      ],
      "text/plain": [
       "<IPython.core.display.HTML object>"
      ]
     },
     "metadata": {},
     "output_type": "display_data"
    }
   ],
   "source": [
    "# Run TensorBoard\n",
    "%tensorboard --logdir=./logs"
   ]
  },
  {
   "cell_type": "markdown",
   "metadata": {},
   "source": [
    "# **`Run Hyperparameter tuning and save the best model using TensorBoard.`**"
   ]
  },
  {
   "cell_type": "code",
   "execution_count": null,
   "metadata": {
    "execution": {
     "iopub.execute_input": "2024-02-16T13:25:47.770209Z",
     "iopub.status.busy": "2024-02-16T13:25:47.769912Z",
     "iopub.status.idle": "2024-02-16T13:30:46.068647Z",
     "shell.execute_reply": "2024-02-16T13:30:46.067734Z",
     "shell.execute_reply.started": "2024-02-16T13:25:47.770182Z"
    },
    "trusted": true
   },
   "outputs": [],
   "source": [
    "%%time\n",
    "from tensorflow.keras.callbacks import ModelCheckpoint\n",
    "# Import the ModelCheckpoint callback\n",
    "# Define different optimizers\n",
    "optimizers = ['SGD', 'Adam']\n",
    "# optimizers = ['SGD', 'Adam', 'RMSprop', 'Adadelta', 'Adagrad', 'Adamax', 'Nadam', 'Ftrl']\n",
    "\n",
    "# Train the model with different optimizers and store each optimizer in a different callback function\n",
    "for optimizer in optimizers:\n",
    "    model = Sequential([\n",
    "        tf.keras.layers.Conv2D(10, (3, 3), activation='relu', input_shape=(28, 28, 1)),\n",
    "        tf.keras.layers.MaxPooling2D((2,2)),\n",
    "        tf.keras.layers.Conv2D(10, (3, 3), activation='relu'),\n",
    "        tf.keras.layers.MaxPooling2D((2,2)),\n",
    "        tf.keras.layers.Conv2D(10, (3, 3), activation='relu'),\n",
    "        tf.keras.layers.Conv2D(10, (3, 3), activation='relu'),\n",
    "        tf.keras.layers.MaxPooling2D((1,1)),\n",
    "        tf.keras.layers.Flatten(),\n",
    "        tf.keras.layers.Dropout(0.2),\n",
    "        tf.keras.layers.Dense(10, activation='softmax')\n",
    "    ])\n",
    "    \n",
    "    model.compile(optimizer=optimizer,\n",
    "                  loss='sparse_categorical_crossentropy',\n",
    "                  metrics=['accuracy'])\n",
    "    \n",
    "    # Define different batch sizes\n",
    "    batch_sizes = [16, 32, 64, 128]\n",
    "    \n",
    "    # Train the model with different batch sizes and store each batch size in a different callback function\n",
    "    for batch_size in batch_sizes:\n",
    "        log_dir = f'./logs/{optimizer}_batch_size_{batch_size}'\n",
    "        \n",
    "        # Define the ModelCheckpoint callback to save the best model based on validation accuracy\n",
    "        checkpoint_callback = ModelCheckpoint(filepath=f'./models/best_model_{optimizer}_batch_size_{batch_size}.h5',\n",
    "                                              monitor='val_accuracy',\n",
    "                                              save_best_only=True,\n",
    "                                              mode='max',\n",
    "                                              verbose=1)\n",
    "        \n",
    "        tensorboard_callback = TensorBoard(log_dir=log_dir, histogram_freq=1)\n",
    "        \n",
    "        # Train the model with the callbacks\n",
    "        model.fit(X_train, y_train, epochs=5, batch_size=batch_size, validation_data=(X_test,y_test), callbacks=[tensorboard_callback, checkpoint_callback])\n",
    "\n",
    "# Load the TensorBoard notebook extension\n",
    "%load_ext tensorboard\n",
    "\n",
    "# Run TensorBoard\n",
    "%tensorboard --logdir=./logs"
   ]
  },
  {
   "cell_type": "code",
   "execution_count": 5,
   "metadata": {},
   "outputs": [
    {
     "data": {
      "text/plain": [
       "Reusing TensorBoard on port 6007 (pid 60114), started 0:09:45 ago. (Use '!kill 60114' to kill it.)"
      ]
     },
     "metadata": {},
     "output_type": "display_data"
    },
    {
     "data": {
      "text/html": [
       "\n",
       "      <iframe id=\"tensorboard-frame-6a61f7bc098c372e\" width=\"100%\" height=\"800\" frameborder=\"0\">\n",
       "      </iframe>\n",
       "      <script>\n",
       "        (function() {\n",
       "          const frame = document.getElementById(\"tensorboard-frame-6a61f7bc098c372e\");\n",
       "          const url = new URL(\"http://localhost\");\n",
       "          const port = 6007;\n",
       "          if (port) {\n",
       "            url.port = port;\n",
       "          }\n",
       "          frame.src = url;\n",
       "        })();\n",
       "      </script>\n",
       "    "
      ],
      "text/plain": [
       "<IPython.core.display.HTML object>"
      ]
     },
     "metadata": {},
     "output_type": "display_data"
    }
   ],
   "source": [
    "%tensorboard --logdir=./logs"
   ]
  }
 ],
 "metadata": {
  "kaggle": {
   "accelerator": "nvidiaTeslaT4",
   "dataSources": [],
   "dockerImageVersionId": 30648,
   "isGpuEnabled": true,
   "isInternetEnabled": true,
   "language": "python",
   "sourceType": "notebook"
  },
  "kernelspec": {
   "display_name": "tf-env",
   "language": "python",
   "name": "python3"
  },
  "language_info": {
   "codemirror_mode": {
    "name": "ipython",
    "version": 3
   },
   "file_extension": ".py",
   "mimetype": "text/x-python",
   "name": "python",
   "nbconvert_exporter": "python",
   "pygments_lexer": "ipython3",
   "version": "3.9.21"
  }
 },
 "nbformat": 4,
 "nbformat_minor": 4
}
